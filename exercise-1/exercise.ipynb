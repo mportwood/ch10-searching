{
 "cells": [
  {
   "cell_type": "markdown",
   "metadata": {},
   "source": [
    "# Exercise 1\n",
    "Add the specified code for each code cell, running the cells _in order_."
   ]
  },
  {
   "cell_type": "markdown",
   "metadata": {},
   "source": [
    "Create a variable **`deck`** that represents a deck of [playing cards](https://en.wikipedia.org/wiki/Playing_card). This variable should be a _list_ of 52 elements, each of which is a dictionary with the following keys:\n",
    "- `suit`, with a string value that is either `'hearts'`, `'diamonds'`, `'clubs'`, or `'spades'`.\n",
    "- `rank`, with an interger value ranging from 2 to 14 inclusive (11-14 represent a Jack, Queen, King, or Ace respectively).\n",
    "\n",
    "_Tip:_ use a pair of nested loops to add each combination of suit and rank to the `deck` list!"
   ]
  },
  {
   "cell_type": "code",
   "execution_count": 3,
   "metadata": {},
   "outputs": [
    {
     "data": {
      "text/plain": [
       "[{'suit': 'hearts', 'rank': 2},\n",
       " {'suit': 'hearts', 'rank': 3},\n",
       " {'suit': 'hearts', 'rank': 4},\n",
       " {'suit': 'hearts', 'rank': 5},\n",
       " {'suit': 'hearts', 'rank': 6},\n",
       " {'suit': 'hearts', 'rank': 7},\n",
       " {'suit': 'hearts', 'rank': 8},\n",
       " {'suit': 'hearts', 'rank': 9},\n",
       " {'suit': 'hearts', 'rank': 10},\n",
       " {'suit': 'hearts', 'rank': 11},\n",
       " {'suit': 'hearts', 'rank': 12},\n",
       " {'suit': 'hearts', 'rank': 13},\n",
       " {'suit': 'hearts', 'rank': 14},\n",
       " {'suit': 'diamonds', 'rank': 2},\n",
       " {'suit': 'diamonds', 'rank': 3},\n",
       " {'suit': 'diamonds', 'rank': 4},\n",
       " {'suit': 'diamonds', 'rank': 5},\n",
       " {'suit': 'diamonds', 'rank': 6},\n",
       " {'suit': 'diamonds', 'rank': 7},\n",
       " {'suit': 'diamonds', 'rank': 8},\n",
       " {'suit': 'diamonds', 'rank': 9},\n",
       " {'suit': 'diamonds', 'rank': 10},\n",
       " {'suit': 'diamonds', 'rank': 11},\n",
       " {'suit': 'diamonds', 'rank': 12},\n",
       " {'suit': 'diamonds', 'rank': 13},\n",
       " {'suit': 'diamonds', 'rank': 14},\n",
       " {'suit': 'clubs', 'rank': 2},\n",
       " {'suit': 'clubs', 'rank': 3},\n",
       " {'suit': 'clubs', 'rank': 4},\n",
       " {'suit': 'clubs', 'rank': 5},\n",
       " {'suit': 'clubs', 'rank': 6},\n",
       " {'suit': 'clubs', 'rank': 7},\n",
       " {'suit': 'clubs', 'rank': 8},\n",
       " {'suit': 'clubs', 'rank': 9},\n",
       " {'suit': 'clubs', 'rank': 10},\n",
       " {'suit': 'clubs', 'rank': 11},\n",
       " {'suit': 'clubs', 'rank': 12},\n",
       " {'suit': 'clubs', 'rank': 13},\n",
       " {'suit': 'clubs', 'rank': 14},\n",
       " {'suit': 'spades', 'rank': 2},\n",
       " {'suit': 'spades', 'rank': 3},\n",
       " {'suit': 'spades', 'rank': 4},\n",
       " {'suit': 'spades', 'rank': 5},\n",
       " {'suit': 'spades', 'rank': 6},\n",
       " {'suit': 'spades', 'rank': 7},\n",
       " {'suit': 'spades', 'rank': 8},\n",
       " {'suit': 'spades', 'rank': 9},\n",
       " {'suit': 'spades', 'rank': 10},\n",
       " {'suit': 'spades', 'rank': 11},\n",
       " {'suit': 'spades', 'rank': 12},\n",
       " {'suit': 'spades', 'rank': 13},\n",
       " {'suit': 'spades', 'rank': 14}]"
      ]
     },
     "execution_count": 3,
     "metadata": {},
     "output_type": "execute_result"
    }
   ],
   "source": [
    "##First create empty list\n",
    "deck = []\n",
    "##Could create an intermediate suits var, but don't have to\n",
    "#suits = ['hearts', 'diamonds', 'clubs', 'spades']\n",
    "for suit in ['hearts', 'diamonds', 'clubs', 'spades']: \n",
    "    #I could write this out, or could use a loop to create\n",
    "    #how?...Range! But 14 is not inclusive, so +1\n",
    "    for rank in range(2, 14+1): \n",
    "        card = {'suit': suit, 'rank': rank} ##This is totally optional. Could just move this down to append!\n",
    "        ##test it out!\n",
    "        #print(card)\n",
    "        ##Am I done? No, need to \"put them in the list\"\n",
    "        ##How do I do that? append\n",
    "        deck.append(card)\n",
    "deck\n",
    "\n",
    "##Good example to follow for HW 4"
   ]
  },
  {
   "cell_type": "markdown",
   "metadata": {},
   "source": [
    "Create a list **hand** that represents a hand of [Poker](https://en.wikipedia.org/wiki/Poker) (5-card draw). Add 5 cards from the `deck` to this list.\n",
    "- You can add 5 specific cards for testing (check their indices!), or use the `random.shuffle()` function to shuffle the deck and then _slice_ 5 cards from the top.\n",
    "\n",
    "Print out the `hand` so you know what you are dealing with!"
   ]
  },
  {
   "cell_type": "code",
   "execution_count": 67,
   "metadata": {},
   "outputs": [
    {
     "data": {
      "text/plain": [
       "[{'suit': 'diamonds', 'rank': 3},\n",
       " {'suit': 'hearts', 'rank': 11},\n",
       " {'suit': 'clubs', 'rank': 5},\n",
       " {'suit': 'diamonds', 'rank': 14},\n",
       " {'suit': 'spades', 'rank': 6}]"
      ]
     },
     "execution_count": 67,
     "metadata": {},
     "output_type": "execute_result"
    }
   ],
   "source": [
    "import random\n",
    "random.shuffle(deck) #Shuffle! runs in place, no need for variable\n",
    "#deck ##Test: PASS\n",
    "\n",
    "##Grab first 5 cards = first 5 elements from list \n",
    "##Means first five dictionaries\n",
    "hand = deck[0:5]\n",
    "hand\n",
    "\n",
    "#############################\n",
    "##STOP HERE\n",
    "##Go back to slides and talk about searching"
   ]
  },
  {
   "cell_type": "markdown",
   "metadata": {},
   "source": [
    "Define a function **`contains_queen_of_hearts()`** that takes in a list of cards (e.g., a hand) and returns whether or not the Queen of Hearts is in that list. _For practice, don't use the `in` operator to check for containment_."
   ]
  },
  {
   "cell_type": "code",
   "execution_count": 68,
   "metadata": {},
   "outputs": [
    {
     "data": {
      "text/plain": [
       "False"
      ]
     },
     "execution_count": 68,
     "metadata": {},
     "output_type": "execute_result"
    }
   ],
   "source": [
    "##Alright, your turn, take 5 min, try to solve\n",
    "\n",
    "##Simple linear search example\n",
    "def contains_queen_of_hearts(list_of_cards):\n",
    "    for card in list_of_cards:\n",
    "        if card == {'suit': 'hearts', 'rank': 12}:\n",
    "            return True\n",
    "        ##here? \n",
    "        #return False\n",
    "    ##Nope, has to be outside the loop\n",
    "    return False\n",
    "contains_queen_of_hearts(hand)\n",
    "\n",
    "#############################\n",
    "##STOP HERE\n",
    "##Go back to slides and talk about biggestS"
   ]
  },
  {
   "cell_type": "markdown",
   "metadata": {},
   "source": [
    "Define a function **`get_high_card()`** that takes in a list of cards and returns the card (dictionary) of the highest value. The \"high card\" is the one with the highest rank. Cards of different suits but the same rank are considered to have the same value and either may be returned.\n",
    "- Hint: use a \"king-of-the-hill\" search!"
   ]
  },
  {
   "cell_type": "code",
   "execution_count": 69,
   "metadata": {},
   "outputs": [
    {
     "data": {
      "text/plain": [
       "{'suit': 'diamonds', 'rank': 14}"
      ]
     },
     "execution_count": 69,
     "metadata": {},
     "output_type": "execute_result"
    }
   ],
   "source": [
    "##Take 5 minutes and try to complete it yourself\n",
    "def get_high_card(a_list): \n",
    "    ##First, how do I find the rank? \n",
    "    #highest_card = a_list[0]['rank']\n",
    "    #print(highest_card)\n",
    "    highest_card = a_list[0]\n",
    "    for card in a_list: \n",
    "        if card['rank'] > highest_card['rank']: \n",
    "            highest_card = card\n",
    "        ##here?....No!\n",
    "        #return highest_card\n",
    "    return highest_card\n",
    "    \n",
    "get_high_card(hand)\n",
    "\n",
    "################STOP\n",
    "##Go to the Are All Items Big Slide"
   ]
  },
  {
   "cell_type": "markdown",
   "metadata": {},
   "source": [
    "Define a function **`is_flush()`** that takes in a list of cards and returns whether or not the list represents a _flush_&mdash;that is, all of the cards have the same _suit_."
   ]
  },
  {
   "cell_type": "code",
   "execution_count": 71,
   "metadata": {},
   "outputs": [
    {
     "data": {
      "text/plain": [
       "False"
      ]
     },
     "execution_count": 71,
     "metadata": {},
     "output_type": "execute_result"
    }
   ],
   "source": [
    "##One way:\n",
    "# def is_flush(a_list): \n",
    "#     same_suit = True\n",
    "#     prev_card = a_list[0]\n",
    "#     for card in a_list: \n",
    "#         if not card['suit'] == prev_card['suit']: \n",
    "#             same_suit = False\n",
    "#             break\n",
    "#         else: \n",
    "#             prev_card = card\n",
    "#     return same_suit\n",
    "\n",
    "##Other way: \n",
    "def is_flush(a_list): \n",
    "    #First go through loop, then come back here\n",
    "    target_suit = a_list[0]['suit']\n",
    "    is_flush = True #Actually, not necessary, can delete\n",
    "    for card in a_list: \n",
    "        \n",
    "        ##if card['suit'] == ...what...go back and create\n",
    "        if card['suit'] != target_suit: \n",
    "            #is_flush = False #could include, could skip and just return false\n",
    "            return False\n",
    "    return True\n",
    "\n",
    "is_flush(hand)"
   ]
  },
  {
   "cell_type": "markdown",
   "metadata": {},
   "source": [
    "_Challenge_: Define a functon **`has_pair()`** that takes in a list of cards and returns whether or not there is at least one _pair_ (two cards with the same _rank_) in the list.\n",
    "\n",
    "_Bonus challenge:_ Return the rank of the pair of cards with the highest rank (e.g., if there is more than one pair!) "
   ]
  },
  {
   "cell_type": "code",
   "execution_count": null,
   "metadata": {},
   "outputs": [],
   "source": []
  }
 ],
 "metadata": {
  "kernelspec": {
   "display_name": "Python 3",
   "language": "python",
   "name": "python3"
  },
  "language_info": {
   "codemirror_mode": {
    "name": "ipython",
    "version": 3
   },
   "file_extension": ".py",
   "mimetype": "text/x-python",
   "name": "python",
   "nbconvert_exporter": "python",
   "pygments_lexer": "ipython3",
   "version": "3.7.0"
  },
  "toc": {
   "colors": {
    "hover_highlight": "#DAA520",
    "running_highlight": "#FF0000",
    "selected_highlight": "#FFD700"
   },
   "moveMenuLeft": true,
   "nav_menu": {
    "height": "30px",
    "width": "252px"
   },
   "navigate_menu": true,
   "number_sections": true,
   "sideBar": true,
   "threshold": 4,
   "toc_cell": false,
   "toc_section_display": "block",
   "toc_window_display": false,
   "widenNotebook": false
  }
 },
 "nbformat": 4,
 "nbformat_minor": 2
}
